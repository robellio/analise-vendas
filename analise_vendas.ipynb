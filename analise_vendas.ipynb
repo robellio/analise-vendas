{
 "cells": [
  {
   "cell_type": "code",
   "execution_count": 21,
   "id": "978c367e",
   "metadata": {},
   "outputs": [],
   "source": [
    "import pandas as pd \n",
    "import matplotlib.pyplot as plt\n",
    "import numpy as np\n",
    "from matplotlib.backends.backend_pdf import PdfPages\n",
    "import os"
   ]
  },
  {
   "cell_type": "code",
   "execution_count": 22,
   "id": "dfbd9adb",
   "metadata": {},
   "outputs": [],
   "source": [
    "# Configurar pastas | Resultados\n",
    "os.makedirs('resultados/graficos', exist_ok=True)"
   ]
  },
  {
   "cell_type": "code",
   "execution_count": 23,
   "id": "53c24fc7",
   "metadata": {},
   "outputs": [],
   "source": [
    "# Carregando dados\n",
    "try:\n",
    "    df = pd.read_csv('inputs/produtos.csv')\n",
    "except FileNotFoundError:\n",
    "    print(\"Erro: Arquivo 'produto.csv' não encontrado!\")\n",
    "    exit()"
   ]
  },
  {
   "cell_type": "code",
   "execution_count": 24,
   "id": "19f8a4c8",
   "metadata": {},
   "outputs": [],
   "source": [
    "# Estilo do gráfico \n",
    "plt.style.use('ggplot')"
   ]
  },
  {
   "cell_type": "code",
   "execution_count": 25,
   "id": "d01fcf9c",
   "metadata": {},
   "outputs": [],
   "source": [
    "# Top 5 Produtos Mais Vendidos\n",
    "top5 = df.sort_values('unidades_vendidas', ascending=False).head(5)\n",
    "\n",
    "plt.figure(figsize=(10, 6))\n",
    "plt.barh(top5['nome_produto'], top5['unidades_vendidas'], color='#3498db')\n",
    "plt.title('Top 5 produtos Mais Vendidos')\n",
    "plt.xlabel('Unidades Vendidas')\n",
    "plt.gca().invert_yaxis()\n",
    "plt.savefig('resultados/graficos/top5_vendas.png', bbox_inches='tight')\n",
    "plt.close()"
   ]
  },
  {
   "cell_type": "code",
   "execution_count": 26,
   "id": "b3e3f346",
   "metadata": {},
   "outputs": [],
   "source": [
    "# Impacto de Promoções \n",
    "vendas_promocao = df.groupby('promocao')['unidades_vendidas'].mean()\n",
    "\n",
    "plt.figure(figsize=(8, 5))\n",
    "plt.bar(['Sem Promoção', 'Com Promoção'], vendas_promocao, color=['#e74c3c', '#2ecc71'])\n",
    "plt.title('Média de Vendas: Com vs Sem Promoção')\n",
    "plt.ylabel('Unidades Vendidas')\n",
    "plt.savefig('resultados/graficos/impacto_promocoes.png')\n",
    "plt.close()"
   ]
  },
  {
   "cell_type": "code",
   "execution_count": 27,
   "id": "f5683b59",
   "metadata": {},
   "outputs": [],
   "source": [
    "# Tendência Sazonal \n",
    "meses = ['Jan', 'Fev', 'Mar', 'Abr', 'Mai', 'Jun', 'Jul', 'Ago', 'Set', 'Out', 'Nov', 'Dez']\n",
    "vendas_mensais = [300, 280, 320, 400, 450, 500, 600, 700, 800, 900, 1200, 1500]\n",
    "\n",
    "plt.figure(figsize=(12, 6))\n",
    "plt.plot(meses, vendas_mensais, marker='o', color='#9b59b6')\n",
    "plt.title('Vendas Mensais em 2023 [ Simulação ]')\n",
    "plt.xlabel('Mês')\n",
    "plt.ylabel('Unidades Vendidas')\n",
    "plt.grid(True)\n",
    "plt.savefig('resultados/graficos/tendencia_sazonal.png')\n",
    "plt.close()"
   ]
  },
  {
   "cell_type": "code",
   "execution_count": 28,
   "id": "f5712dc4",
   "metadata": {},
   "outputs": [],
   "source": [
    "# Relação entre Avaliação e Vendas\n",
    "plt.figure(figsize=(10, 6))\n",
    "plt.scatter(df['avaliacao_media'], df['unidades_vendidas'], alpha=0.6, color='#e67e22')\n",
    "plt.title('Relação entre Avaliação e Vendas')\n",
    "plt.xlabel('Avaliação Média (1 - 5)')\n",
    "plt.ylabel('Unidades Vendidas')\n",
    "plt.grid(True)\n",
    "plt.savefig('resultados/graficos/relacao_avaliacao_vendas.png')\n",
    "plt.close()"
   ]
  }
 ],
 "metadata": {
  "kernelspec": {
   "display_name": "Python 3",
   "language": "python",
   "name": "python3"
  },
  "language_info": {
   "codemirror_mode": {
    "name": "ipython",
    "version": 3
   },
   "file_extension": ".py",
   "mimetype": "text/x-python",
   "name": "python",
   "nbconvert_exporter": "python",
   "pygments_lexer": "ipython3",
   "version": "3.13.3"
  }
 },
 "nbformat": 4,
 "nbformat_minor": 5
}
