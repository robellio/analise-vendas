{
 "cells": [
  {
   "cell_type": "code",
   "execution_count": 2,
   "id": "978c367e",
   "metadata": {},
   "outputs": [],
   "source": [
    "import pandas as pd \n",
    "import matplotlib.pyplot as plt\n",
    "import numpy as np\n",
    "from matplotlib.backends.backend_pdf import PdfPages\n",
    "import os"
   ]
  },
  {
   "cell_type": "code",
   "execution_count": 3,
   "id": "dfbd9adb",
   "metadata": {},
   "outputs": [],
   "source": [
    "# Configurar pastas | Resultados\n",
    "os.makedirs('resultados/graficos', exist_ok=True)"
   ]
  },
  {
   "cell_type": "code",
   "execution_count": null,
   "id": "53c24fc7",
   "metadata": {},
   "outputs": [],
   "source": [
    "# Carregando dados\n",
    "try:\n",
    "    df = pd.read_csv('inputs/produtos.csv')\n",
    "except FileNotFoundError:\n",
    "    print(\"Erro: Arquivo 'produto.csv' não encontrado!\")\n",
    "    exit()"
   ]
  },
  {
   "cell_type": "code",
   "execution_count": null,
   "id": "d01fcf9c",
   "metadata": {},
   "outputs": [],
   "source": [
    "# Top 5 Produtos Mais Vendidos\n",
    "top5 = df.sort_values('unidades_vendidas', ascending=False).head(5)\n",
    "\n",
    "plt.figure(figsize=(10, 6))\n",
    "plt.barh(top5['nome_produto'], top5['unidades_vendidas'], color='#3498db')\n",
    "plt.title('Top 5 produtos Mais Vendidos')\n",
    "plt.xlabel('Unidades Vendidas')\n",
    "plt.gca().invert_yaxis()\n",
    "plt.savefig('resultados/graficos/top5_vendas.png', bbox_inches='tight')\n",
    "plt.close()"
   ]
  }
 ],
 "metadata": {
  "kernelspec": {
   "display_name": "Python 3",
   "language": "python",
   "name": "python3"
  },
  "language_info": {
   "codemirror_mode": {
    "name": "ipython",
    "version": 3
   },
   "file_extension": ".py",
   "mimetype": "text/x-python",
   "name": "python",
   "nbconvert_exporter": "python",
   "pygments_lexer": "ipython3",
   "version": "3.13.3"
  }
 },
 "nbformat": 4,
 "nbformat_minor": 5
}
